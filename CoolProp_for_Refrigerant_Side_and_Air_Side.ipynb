{
 "cells": [
  {
   "cell_type": "markdown",
   "id": "32e21adb-26df-43ae-898c-97efb0f31d6f",
   "metadata": {},
   "source": [
    "# Calculating Refrigerant and Air Properties Using CoolProp Library"
   ]
  },
  {
   "cell_type": "markdown",
   "id": "a68a6478-4ac0-4e1b-a810-78fbe6e4bd49",
   "metadata": {},
   "source": [
    "## Refrigerant Side Calculation"
   ]
  },
  {
   "cell_type": "markdown",
   "id": "38754c5b-2586-4f4c-839e-8c03e2745521",
   "metadata": {},
   "source": [
    "__Import CoolProp as CP for refrigerant propeties.__"
   ]
  },
  {
   "cell_type": "code",
   "execution_count": 1,
   "id": "fd5665f0-1741-4fa8-affa-89580803284d",
   "metadata": {},
   "outputs": [],
   "source": [
    "import CoolProp.CoolProp as CP"
   ]
  },
  {
   "cell_type": "markdown",
   "id": "dd302ecf-cbdc-4e6b-a413-4763a9741818",
   "metadata": {},
   "source": [
    "__1. Select refrigerant, condenser inlet temperature, condenser inlet pressure, condenser outlet temperature, \n",
    "condenser outlet pressure.__"
   ]
  },
  {
   "cell_type": "code",
   "execution_count": 2,
   "id": "d9b12885-ead0-434f-aefb-01107a327678",
   "metadata": {},
   "outputs": [],
   "source": [
    "fluid = 'R410A'\n",
    "T_inlet = 84 + 273.15                                                                                                             # Kelvin\n",
    "P_inlet = 3.2 * 1e6                                                                                                               # Pa\n",
    "T_outlet = 46.1 + 273.15                                                                                                          # Kelvin\n",
    "P_outlet = 3.19 * 1e6                                                                                                             # Pa"
   ]
  },
  {
   "cell_type": "markdown",
   "id": "af57f1d3-c29c-46c4-b8b3-366d840447bd",
   "metadata": {},
   "source": [
    "__2. Calculate inlet enthalpy and outlet enthalpy using CoolProp's *PropsSI* function. The function's first argument is H, \n",
    "which indicates we are caculating enthalpy properties. Second and fourth arguments are T and P which indicates temperature and pressure\n",
    "will be used to calculate the enthalpy. Finally in third, fifth and sixth argument temperature value, pressure value and refrigerant\n",
    "type are provided.__"
   ]
  },
  {
   "cell_type": "code",
   "execution_count": 3,
   "id": "37bef750-3016-4aae-8bd2-0f4882d81f21",
   "metadata": {},
   "outputs": [],
   "source": [
    "h_inlet = CP.PropsSI('H', 'T', T_inlet, 'P', P_inlet, fluid)                                                                      # J/kg\n",
    "h_outlet = CP.PropsSI('H', 'T', T_outlet, 'P', P_outlet, fluid)                                                                   # J/kg"
   ]
  },
  {
   "cell_type": "markdown",
   "id": "683ded11-7544-4629-bba8-da86c3ea7868",
   "metadata": {},
   "source": [
    "__3. Calculate the enthalpy difference.__"
   ]
  },
  {
   "cell_type": "code",
   "execution_count": 4,
   "id": "5bb6cacc-a556-4376-a4f8-60622936c589",
   "metadata": {},
   "outputs": [
    {
     "name": "stdout",
     "output_type": "stream",
     "text": [
      "Enthalpy difference: 196.24982964457206 kJ/kg\n"
     ]
    }
   ],
   "source": [
    "delta_h = (h_inlet - h_outlet) / 1000                                                                                             # kJ/Kg\n",
    "print(f'Enthalpy difference: {delta_h} kJ/kg')"
   ]
  },
  {
   "cell_type": "markdown",
   "id": "d3b95548-dcbc-478e-b294-495f12365ec2",
   "metadata": {},
   "source": [
    "__4. Select the target capacity for the condenser.__"
   ]
  },
  {
   "cell_type": "code",
   "execution_count": 5,
   "id": "b2e78f2b-2d9d-4153-a7ed-6940ade64b70",
   "metadata": {},
   "outputs": [],
   "source": [
    "capacity_target = 28.13                                                                                                           # kW"
   ]
  },
  {
   "cell_type": "markdown",
   "id": "b67e22b5-07f6-4999-ad3b-2f469d8d04f0",
   "metadata": {},
   "source": [
    "__5. Calculate the mass flow rate of the refrigerant for the target capacity from equation- Q = ṁ x Δh__"
   ]
  },
  {
   "cell_type": "code",
   "execution_count": 6,
   "id": "2809dea0-95e6-434f-a71a-8ea1d56fc918",
   "metadata": {},
   "outputs": [
    {
     "name": "stdout",
     "output_type": "stream",
     "text": [
      "Required mass flow rate of 8 TR AC: 516.0157345532805 kg/h\n"
     ]
    }
   ],
   "source": [
    "m_ref = (capacity_target / delta_h) * 3600                                                                                        # kg/h\n",
    "print(f'Required mass flow rate of 8 TR AC: {m_ref} kg/h')"
   ]
  },
  {
   "cell_type": "markdown",
   "id": "b707ac84-8bc1-4536-9fcf-490e473000fc",
   "metadata": {},
   "source": [
    "## Air Side Calculation"
   ]
  },
  {
   "cell_type": "markdown",
   "id": "61d1aa4a-f104-4cdd-a540-1c8e1f2ce65b",
   "metadata": {},
   "source": [
    "__Import CoolProp.HumidAirProp as HA for humid air properties calculation.__"
   ]
  },
  {
   "cell_type": "code",
   "execution_count": 7,
   "id": "952a104e-9559-4157-bf22-1e7e3825c9a2",
   "metadata": {},
   "outputs": [],
   "source": [
    "import CoolProp.HumidAirProp as HA"
   ]
  },
  {
   "cell_type": "markdown",
   "id": "bd4e6991-6c55-4890-98d7-e5298cc9ca9e",
   "metadata": {},
   "source": [
    "__1. Set room condition air temperature and relative humadity.__"
   ]
  },
  {
   "cell_type": "code",
   "execution_count": 8,
   "id": "caf0dda4-ceb6-47ac-b3ce-477fcce8fd40",
   "metadata": {},
   "outputs": [],
   "source": [
    "air_temperature = 35 + 273.15                                                                                                     # Kelvin\n",
    "relative_humidity = 0.45"
   ]
  },
  {
   "cell_type": "markdown",
   "id": "17eae7e5-1eaf-413e-ab57-efae74fa69a0",
   "metadata": {},
   "source": [
    "__2. Calculate humdity ratio with HAPropsSI function. First argument is W which tells the function to return humdity ratio.\n",
    "Second, fourth, and sixth argument are 'T', 'R', 'P' which indicates these parameters will be used to determine humidity ratio.\n",
    "In third, fifth, seventh argument we will input temperature, relative humidity and atmospheric pressure value.__"
   ]
  },
  {
   "cell_type": "code",
   "execution_count": 9,
   "id": "3496c77f-d96f-49e0-a3d5-4f8ba2190dbe",
   "metadata": {},
   "outputs": [
    {
     "name": "stdout",
     "output_type": "stream",
     "text": [
      "Humdity Ratio: 0.016021235695980525\n"
     ]
    }
   ],
   "source": [
    "humidity_ratio = HA.HAPropsSI('W', 'T', air_temperature, 'R', relative_humidity, 'P', 101325)\n",
    "print(f'Humdity Ratio: {humidity_ratio}')"
   ]
  },
  {
   "cell_type": "markdown",
   "id": "9f7be4e1-235c-45db-b328-ad213c25fa0f",
   "metadata": {},
   "source": [
    "__3. Next we calculate specific heat capacity at constant pressure for dry air.__"
   ]
  },
  {
   "cell_type": "code",
   "execution_count": 10,
   "id": "11739c35-a3ef-448e-b276-38744fe4acaf",
   "metadata": {},
   "outputs": [
    {
     "name": "stdout",
     "output_type": "stream",
     "text": [
      "Specific Heat Capacity (Cp) of Dry Air at 308.15 K: 1.0066963047820279 kJ/(kg·K)\n"
     ]
    }
   ],
   "source": [
    "cp_dry_air = CP.PropsSI('C', 'T', air_temperature, 'P', 101325, 'Air') / 1000                                                     # kJ/kg . K\n",
    "print(f\"Specific Heat Capacity (Cp) of Dry Air at {air_temperature} K: {cp_dry_air} kJ/(kg·K)\")"
   ]
  },
  {
   "cell_type": "markdown",
   "id": "5ba46aba-0d05-4968-ab7c-867a006c3d51",
   "metadata": {},
   "source": [
    "__4. Calculate specific heat capacity at constant pressure for water vapour at environmental condition__"
   ]
  },
  {
   "cell_type": "code",
   "execution_count": 11,
   "id": "002591f2-f0df-4023-a0ea-ec57a1ff93df",
   "metadata": {},
   "outputs": [
    {
     "name": "stdout",
     "output_type": "stream",
     "text": [
      "Specific Heat Capacity (Cp) of Water Vapor at 308.15 K: 4.179258102223618 kJ/(kg.K)\n"
     ]
    }
   ],
   "source": [
    "cp_water_vapor = CP.PropsSI('C', 'T', air_temperature, 'P', 101325, 'Water') / 1000                                               # kJ/kg . K\n",
    "print(f\"Specific Heat Capacity (Cp) of Water Vapor at {air_temperature} K: {cp_water_vapor} kJ/(kg.K)\")"
   ]
  },
  {
   "cell_type": "markdown",
   "id": "c448ad0c-1cf1-4e01-9a96-9aa820867005",
   "metadata": {},
   "source": [
    "__5. Specific heat capacity at constant pressure is calculated for moist air with the equation - \n",
    "Cp,moist air = Cp,dry air + ω . Cp, water vapor__"
   ]
  },
  {
   "cell_type": "code",
   "execution_count": 12,
   "id": "09b0bbbb-40a2-4a00-b022-e11588425916",
   "metadata": {},
   "outputs": [
    {
     "name": "stdout",
     "output_type": "stream",
     "text": [
      "Specific Heat Capacity (Cp) of Moist Air at 308.15 K: 1.0736531838720886 kJ/(kg.K)\n"
     ]
    }
   ],
   "source": [
    "cp_moist_air = cp_dry_air + (humidity_ratio * cp_water_vapor)                                                                     # kJ/kg . K\n",
    "print(f\"Specific Heat Capacity (Cp) of Moist Air at {air_temperature} K: {cp_moist_air} kJ/(kg.K)\")"
   ]
  },
  {
   "cell_type": "markdown",
   "id": "c676f72e-49a1-4efc-a82b-feda1cae96e0",
   "metadata": {},
   "source": [
    "__6. Set target outlet air temperature for condenser and compressor work.__"
   ]
  },
  {
   "cell_type": "code",
   "execution_count": 13,
   "id": "45f9bf2d-b390-415b-871b-3430a109c456",
   "metadata": {},
   "outputs": [],
   "source": [
    "air_out_temperature = 47 + 273.15                                                                                                 # Kelvin\n",
    "compressor_work = 7.02                                                                                                            # kW"
   ]
  },
  {
   "cell_type": "markdown",
   "id": "d714494f-0298-4d44-9cbf-a044240c46de",
   "metadata": {},
   "source": [
    "__7. Calculate required mass flow of air using the equation - Q = ṁ x Cp x ΔT__"
   ]
  },
  {
   "cell_type": "code",
   "execution_count": 14,
   "id": "2c5df03d-cc9e-4c74-aff6-72a538ab3557",
   "metadata": {},
   "outputs": [
    {
     "name": "stdout",
     "output_type": "stream",
     "text": [
      "Required mass flow rate of air 8 TR AC: 9821.607348072926 kg/h\n"
     ]
    }
   ],
   "source": [
    "m_air = ((capacity_target + compressor_work) / (cp_moist_air * (air_out_temperature - air_temperature))) * 3600                   # kg/h\n",
    "print(f'Required mass flow rate of air 8 TR AC: {m_air} kg/h')"
   ]
  },
  {
   "cell_type": "markdown",
   "id": "f4b9e761-f9ac-402e-a63f-b7cde67ab2ea",
   "metadata": {},
   "source": [
    "__8. Calculate air density at the environment temperature and pressure using *PropsSI* function.__"
   ]
  },
  {
   "cell_type": "code",
   "execution_count": 15,
   "id": "b2130d15-214b-4840-a4e2-d5af886e4853",
   "metadata": {},
   "outputs": [
    {
     "name": "stdout",
     "output_type": "stream",
     "text": [
      "Density of Air at 308.15 K: 1.145787651724712 kg/m³\n"
     ]
    }
   ],
   "source": [
    "air_density = CP.PropsSI('D', 'T', air_temperature, 'P', 101325, 'Air')                                                           # kg/m^3\n",
    "print(f\"Density of Air at {air_temperature} K: {air_density} kg/m³\")"
   ]
  },
  {
   "cell_type": "markdown",
   "id": "20b30d7e-0eff-4565-aed3-8c276528cbb2",
   "metadata": {},
   "source": [
    "__9. Calculate the required volumetric flow rate using equation - q = ṁ / ρ__"
   ]
  },
  {
   "cell_type": "code",
   "execution_count": 16,
   "id": "f6d23388-5bdc-4142-9da6-d67d116288c5",
   "metadata": {},
   "outputs": [
    {
     "name": "stdout",
     "output_type": "stream",
     "text": [
      "Required volumetric flow rate of air 8 TR AC: 8571.92633668972 m^3/h\n"
     ]
    }
   ],
   "source": [
    "volumetric_air_flow_rate = m_air / air_density                                                                                    # m^3/h\n",
    "print(f'Required volumetric flow rate of air 8 TR AC: {volumetric_air_flow_rate} m^3/h')"
   ]
  },
  {
   "cell_type": "code",
   "execution_count": null,
   "id": "08f36d6f-024e-4e99-b314-0ab520457674",
   "metadata": {},
   "outputs": [],
   "source": []
  }
 ],
 "metadata": {
  "kernelspec": {
   "display_name": "Python 3 (ipykernel)",
   "language": "python",
   "name": "python3"
  },
  "language_info": {
   "codemirror_mode": {
    "name": "ipython",
    "version": 3
   },
   "file_extension": ".py",
   "mimetype": "text/x-python",
   "name": "python",
   "nbconvert_exporter": "python",
   "pygments_lexer": "ipython3",
   "version": "3.9.18"
  }
 },
 "nbformat": 4,
 "nbformat_minor": 5
}
